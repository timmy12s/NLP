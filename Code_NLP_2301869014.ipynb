{
  "nbformat": 4,
  "nbformat_minor": 0,
  "metadata": {
    "colab": {
      "name": "Code_NLP_2301869014.ipynb",
      "provenance": []
    },
    "kernelspec": {
      "name": "python3",
      "display_name": "Python 3"
    },
    "language_info": {
      "name": "python"
    }
  },
  "cells": [
    {
      "cell_type": "markdown",
      "metadata": {
        "id": "wuyWOjfw1HVC"
      },
      "source": [
        "TIMOTEUS SINDHIKARA  - 2301869014 - UAS NLP"
      ]
    },
    {
      "cell_type": "code",
      "metadata": {
        "id": "Kmr39EP3-3Zp",
        "colab": {
          "base_uri": "https://localhost:8080/"
        },
        "outputId": "e89bff9d-ba50-4aec-f72a-4aea7fa51e2f"
      },
      "source": [
        "# !pip install --upgrade tensorflow==1.15\n",
        "# !pip install gensim==3.8.\n",
        "from sklearn.feature_extraction.text import CountVectorizer\n",
        "from nltk.tokenize import RegexpTokenizer\n",
        "from sklearn.preprocessing import StandardScaler, OneHotEncoder\n",
        "from sklearn.model_selection import train_test_split\n",
        "import nltk\n",
        "import pandas as pd\n",
        "import tensorflow as tf\n",
        "import numpy as np\n",
        "import re\n",
        "import string\n",
        "from nltk.corpus import stopwords\n",
        "from sklearn.metrics import classification_report\n",
        "from gensim.models import Word2Vec\n",
        "from sklearn.preprocessing import LabelEncoder\n",
        "from tensorflow.keras.preprocessing.text import Tokenizer\n",
        "from tensorflow.keras.preprocessing.sequence import pad_sequences\n",
        "nltk.download('stopwords')\n",
        "nltk.download('punkt')"
      ],
      "execution_count": 1,
      "outputs": [
        {
          "output_type": "stream",
          "text": [
            "[nltk_data] Downloading package stopwords to /root/nltk_data...\n",
            "[nltk_data]   Package stopwords is already up-to-date!\n",
            "[nltk_data] Downloading package punkt to /root/nltk_data...\n",
            "[nltk_data]   Package punkt is already up-to-date!\n"
          ],
          "name": "stdout"
        },
        {
          "output_type": "execute_result",
          "data": {
            "text/plain": [
              "True"
            ]
          },
          "metadata": {
            "tags": []
          },
          "execution_count": 1
        }
      ]
    },
    {
      "cell_type": "code",
      "metadata": {
        "id": "rx7haDIfDHQY"
      },
      "source": [
        "#Input Data\n",
        "dataset = {\n",
        "    'text' : ['I feel like I am drowning. #depression #anxiety #failure #worthless',\n",
        "              '#panic Panic attack from fear of starting new medication',\n",
        "              \"My bus was in a car crash... I'm still shaking a bit... This week was an absolute horror and this was the icing on the cake...#terrible\",\n",
        "              'Just got back from seeing @GaryDelaney in Burslem.AMAZING!! Face still hurts from laughing so much #hilarious',\n",
        "              \"It's the #FirstDayofFall and I'm so happy. Sipping my #PumpkinSpice flavoured coffee and #smiling! Happy Fall everyone! #amwriting\",\n",
        "              'Morning all! Of course it is sunny on this Monday morning to cheerfully welcome us back to work.:)'],\n",
        "      \n",
        "    'label' : ['fear','fear','fear','joy','joy','joy']\n",
        "}"
      ],
      "execution_count": 2,
      "outputs": []
    },
    {
      "cell_type": "code",
      "metadata": {
        "colab": {
          "base_uri": "https://localhost:8080/",
          "height": 204
        },
        "id": "EQJMxaMhDkRK",
        "outputId": "617764f6-1870-4f1b-a206-4a014a59ee5e"
      },
      "source": [
        "#Convert dataset type (dictionary) into dataframe\n",
        "dataset = pd.DataFrame.from_dict(dataset)\n",
        "dataset.head()"
      ],
      "execution_count": 3,
      "outputs": [
        {
          "output_type": "execute_result",
          "data": {
            "text/html": [
              "<div>\n",
              "<style scoped>\n",
              "    .dataframe tbody tr th:only-of-type {\n",
              "        vertical-align: middle;\n",
              "    }\n",
              "\n",
              "    .dataframe tbody tr th {\n",
              "        vertical-align: top;\n",
              "    }\n",
              "\n",
              "    .dataframe thead th {\n",
              "        text-align: right;\n",
              "    }\n",
              "</style>\n",
              "<table border=\"1\" class=\"dataframe\">\n",
              "  <thead>\n",
              "    <tr style=\"text-align: right;\">\n",
              "      <th></th>\n",
              "      <th>text</th>\n",
              "      <th>label</th>\n",
              "    </tr>\n",
              "  </thead>\n",
              "  <tbody>\n",
              "    <tr>\n",
              "      <th>0</th>\n",
              "      <td>I feel like I am drowning. #depression #anxiet...</td>\n",
              "      <td>fear</td>\n",
              "    </tr>\n",
              "    <tr>\n",
              "      <th>1</th>\n",
              "      <td>#panic Panic attack from fear of starting new ...</td>\n",
              "      <td>fear</td>\n",
              "    </tr>\n",
              "    <tr>\n",
              "      <th>2</th>\n",
              "      <td>My bus was in a car crash... I'm still shaking...</td>\n",
              "      <td>fear</td>\n",
              "    </tr>\n",
              "    <tr>\n",
              "      <th>3</th>\n",
              "      <td>Just got back from seeing @GaryDelaney in Burs...</td>\n",
              "      <td>joy</td>\n",
              "    </tr>\n",
              "    <tr>\n",
              "      <th>4</th>\n",
              "      <td>It's the #FirstDayofFall and I'm so happy. Sip...</td>\n",
              "      <td>joy</td>\n",
              "    </tr>\n",
              "  </tbody>\n",
              "</table>\n",
              "</div>"
            ],
            "text/plain": [
              "                                                text label\n",
              "0  I feel like I am drowning. #depression #anxiet...  fear\n",
              "1  #panic Panic attack from fear of starting new ...  fear\n",
              "2  My bus was in a car crash... I'm still shaking...  fear\n",
              "3  Just got back from seeing @GaryDelaney in Burs...   joy\n",
              "4  It's the #FirstDayofFall and I'm so happy. Sip...   joy"
            ]
          },
          "metadata": {
            "tags": []
          },
          "execution_count": 3
        }
      ]
    },
    {
      "cell_type": "markdown",
      "metadata": {
        "id": "r1gcN2TPh_gj"
      },
      "source": [
        "#Preprocessing"
      ]
    },
    {
      "cell_type": "code",
      "metadata": {
        "colab": {
          "base_uri": "https://localhost:8080/"
        },
        "id": "22bCvO-qFLDz",
        "outputId": "9185493b-61a0-414f-bae8-9538726b3a84"
      },
      "source": [
        "#Clean data, mengubah seluruh kata menjadi lowercase, menghilangkan angka, whitespace, dan punctuation\n",
        "def clean_dataset(input_str):\n",
        "  input_str = input_str.lower()\n",
        "  input_str = re.sub(r'\\d+', '', input_str)\n",
        "  input_str = input_str.strip()\n",
        "  input_str = re.sub(r'[^\\w\\s]','',input_str)\n",
        "  return input_str\n",
        "dataset['text'] = dataset['text'].apply(lambda x: clean_dataset(x))\n",
        "dataset['text'].head()"
      ],
      "execution_count": 4,
      "outputs": [
        {
          "output_type": "execute_result",
          "data": {
            "text/plain": [
              "0    i feel like i am drowning depression anxiety f...\n",
              "1    panic panic attack from fear of starting new m...\n",
              "2    my bus was in a car crash im still shaking a b...\n",
              "3    just got back from seeing garydelaney in bursl...\n",
              "4    its the firstdayoffall and im so happy sipping...\n",
              "Name: text, dtype: object"
            ]
          },
          "metadata": {
            "tags": []
          },
          "execution_count": 4
        }
      ]
    },
    {
      "cell_type": "code",
      "metadata": {
        "colab": {
          "base_uri": "https://localhost:8080/"
        },
        "id": "zxvcyD4_6_w1",
        "outputId": "4e05891b-26ed-409c-d91b-d5369cb646c4"
      },
      "source": [
        "# Remove stop words, ini berguna untuk menghilangkan kata-kata \n",
        "# tambahan yang tidak berguna untuk proses training model nantinya\n",
        "stopwords = set(stopwords.words('english'))\n",
        "def clean_stopwords(input_str):\n",
        "  return \" \".join([word for word in str(input_str).split() if word not in stopwords])\n",
        "  \n",
        "dataset['text'] = dataset['text'].apply(lambda x: clean_stopwords(x))\n",
        "dataset['text'].head()"
      ],
      "execution_count": 5,
      "outputs": [
        {
          "output_type": "execute_result",
          "data": {
            "text/plain": [
              "0    feel like drowning depression anxiety failure ...\n",
              "1      panic panic attack fear starting new medication\n",
              "2    bus car crash im still shaking bit week absolu...\n",
              "3    got back seeing garydelaney burslemamazing fac...\n",
              "4    firstdayoffall im happy sipping pumpkinspice f...\n",
              "Name: text, dtype: object"
            ]
          },
          "metadata": {
            "tags": []
          },
          "execution_count": 5
        }
      ]
    },
    {
      "cell_type": "code",
      "metadata": {
        "colab": {
          "base_uri": "https://localhost:8080/"
        },
        "id": "XMY1h80WWZuT",
        "outputId": "d90a3862-c6c9-4d01-b82d-22c8abe4542b"
      },
      "source": [
        "#Word Tokenizing, ini berguna untuk membagi kalimat-kalimat menjadi bagian per kata\n",
        "tokenizer = RegexpTokenizer(r\"\\w+\")\n",
        "dataset['text'] = dataset['text'].apply(tokenizer.tokenize)\n",
        "dataset['text'].head()"
      ],
      "execution_count": 6,
      "outputs": [
        {
          "output_type": "execute_result",
          "data": {
            "text/plain": [
              "0    [feel, like, drowning, depression, anxiety, fa...\n",
              "1    [panic, panic, attack, fear, starting, new, me...\n",
              "2    [bus, car, crash, im, still, shaking, bit, wee...\n",
              "3    [got, back, seeing, garydelaney, burslemamazin...\n",
              "4    [firstdayoffall, im, happy, sipping, pumpkinsp...\n",
              "Name: text, dtype: object"
            ]
          },
          "metadata": {
            "tags": []
          },
          "execution_count": 6
        }
      ]
    },
    {
      "cell_type": "code",
      "metadata": {
        "colab": {
          "base_uri": "https://localhost:8080/"
        },
        "id": "v05WWBrtWIG6",
        "outputId": "fc6ed9b5-11df-480b-e40c-5972150be022"
      },
      "source": [
        "# Word Stemming, ini berguna untuk mengubah seluruh kata-kata menjadi kata baku, data siap untuk dilakukan Word Embedding\n",
        "stemming = nltk.PorterStemmer()\n",
        "def stem_text(dataset):\n",
        "    text = [stemming.stem(word) for word in dataset]\n",
        "    return text\n",
        "\n",
        "dataset['text']= dataset['text'].apply(lambda x: stem_text(x))\n",
        "dataset['text'].head()"
      ],
      "execution_count": 7,
      "outputs": [
        {
          "output_type": "execute_result",
          "data": {
            "text/plain": [
              "0    [feel, like, drown, depress, anxieti, failur, ...\n",
              "1      [panic, panic, attack, fear, start, new, medic]\n",
              "2    [bu, car, crash, im, still, shake, bit, week, ...\n",
              "3    [got, back, see, garydelaney, burslemamaz, fac...\n",
              "4    [firstdayoffal, im, happi, sip, pumpkinspic, f...\n",
              "Name: text, dtype: object"
            ]
          },
          "metadata": {
            "tags": []
          },
          "execution_count": 7
        }
      ]
    },
    {
      "cell_type": "code",
      "metadata": {
        "colab": {
          "base_uri": "https://localhost:8080/"
        },
        "id": "EFKvhO3luZtQ",
        "outputId": "c1cd32ce-3c92-4e42-f820-b29c6098cd22"
      },
      "source": [
        "#View max len per index\n",
        "for i in range (len(dataset['text'])):\n",
        "    print(len(dataset['text'][i]))"
      ],
      "execution_count": 8,
      "outputs": [
        {
          "output_type": "stream",
          "text": [
            "7\n",
            "7\n",
            "12\n",
            "11\n",
            "12\n",
            "10\n"
          ],
          "name": "stdout"
        }
      ]
    },
    {
      "cell_type": "markdown",
      "metadata": {
        "id": "3OJsVYRuiC-X"
      },
      "source": [
        "#Word Embedding"
      ]
    },
    {
      "cell_type": "code",
      "metadata": {
        "id": "lO84FxQJBhZA"
      },
      "source": [
        "#Convert into vector\n",
        "embedModel = Word2Vec(dataset['text'], min_count=1, size=10)"
      ],
      "execution_count": 9,
      "outputs": []
    },
    {
      "cell_type": "code",
      "metadata": {
        "colab": {
          "base_uri": "https://localhost:8080/"
        },
        "id": "xF--zTV5ouin",
        "outputId": "6c706778-22d8-403f-c5a2-bb678c445e19"
      },
      "source": [
        "#View unique words\n",
        "vocab = list(embedModel.wv.vocab)\n",
        "print(vocab)"
      ],
      "execution_count": 10,
      "outputs": [
        {
          "output_type": "stream",
          "text": [
            "['feel', 'like', 'drown', 'depress', 'anxieti', 'failur', 'worthless', 'panic', 'attack', 'fear', 'start', 'new', 'medic', 'bu', 'car', 'crash', 'im', 'still', 'shake', 'bit', 'week', 'absolut', 'horror', 'ice', 'caketerr', 'got', 'back', 'see', 'garydelaney', 'burslemamaz', 'face', 'hurt', 'laugh', 'much', 'hilari', 'firstdayoffal', 'happi', 'sip', 'pumpkinspic', 'flavour', 'coffe', 'smile', 'fall', 'everyon', 'amwrit', 'morn', 'cours', 'sunni', 'monday', 'cheer', 'welcom', 'us', 'work']\n"
          ],
          "name": "stdout"
        }
      ]
    },
    {
      "cell_type": "code",
      "metadata": {
        "colab": {
          "base_uri": "https://localhost:8080/",
          "height": 36
        },
        "id": "EQO_EnKG1-05",
        "outputId": "799186ca-1daf-492b-8c47-52bf53a4229f"
      },
      "source": [
        "vocab[1]"
      ],
      "execution_count": 11,
      "outputs": [
        {
          "output_type": "execute_result",
          "data": {
            "application/vnd.google.colaboratory.intrinsic+json": {
              "type": "string"
            },
            "text/plain": [
              "'like'"
            ]
          },
          "metadata": {
            "tags": []
          },
          "execution_count": 11
        }
      ]
    },
    {
      "cell_type": "code",
      "metadata": {
        "colab": {
          "base_uri": "https://localhost:8080/"
        },
        "id": "byBT7BghuPvi",
        "outputId": "f467c0aa-917d-46b0-de44-1538634c5086"
      },
      "source": [
        "#View Length of the unique words\n",
        "len(vocab)"
      ],
      "execution_count": 12,
      "outputs": [
        {
          "output_type": "execute_result",
          "data": {
            "text/plain": [
              "53"
            ]
          },
          "metadata": {
            "tags": []
          },
          "execution_count": 12
        }
      ]
    },
    {
      "cell_type": "code",
      "metadata": {
        "colab": {
          "base_uri": "https://localhost:8080/"
        },
        "id": "jciVGnJzouf8",
        "outputId": "308adc03-cb97-48d6-f8d3-180e1ad84a12"
      },
      "source": [
        "#Convert vector into matrix\n",
        "seq = Tokenizer(nb_words = 500, split='')\n",
        "seq.fit_on_texts(dataset['text'])"
      ],
      "execution_count": 13,
      "outputs": [
        {
          "output_type": "stream",
          "text": [
            "/usr/local/lib/python3.7/dist-packages/keras_preprocessing/text.py:180: UserWarning: The `nb_words` argument in `Tokenizer` has been renamed `num_words`.\n",
            "  warnings.warn('The `nb_words` argument in `Tokenizer` '\n"
          ],
          "name": "stderr"
        }
      ]
    },
    {
      "cell_type": "code",
      "metadata": {
        "colab": {
          "base_uri": "https://localhost:8080/"
        },
        "id": "7Z7RWrSdouc7",
        "outputId": "a8d59b3f-5c1b-473e-c9d7-06057ae60824"
      },
      "source": [
        "newSeq = seq.texts_to_sequences(dataset['text'])\n",
        "newSeq = pad_sequences(newSeq, maxlen=12, padding='post', truncating='post')\n",
        "print(newSeq)"
      ],
      "execution_count": 14,
      "outputs": [
        {
          "output_type": "stream",
          "text": [
            "[[ 7  8  9 10 11 12 13  0  0  0  0  0]\n",
            " [ 1  1 14 15 16 17 18  0  0  0  0  0]\n",
            " [19 20 21  2  3 22 23 24 25 26 27 28]\n",
            " [29  4 30 31 32 33  3 34 35 36 37  0]\n",
            " [38  2  5 39 40 41 42 43  5 44 45 46]\n",
            " [ 6 47 48 49  6 50 51 52  4 53  0  0]]\n"
          ],
          "name": "stdout"
        }
      ]
    },
    {
      "cell_type": "code",
      "metadata": {
        "colab": {
          "base_uri": "https://localhost:8080/"
        },
        "id": "eUHmettmBhLZ",
        "outputId": "9daaa2ee-767a-4601-c0d1-908d74b83c75"
      },
      "source": [
        "matrix = np.zeros((53,10))\n",
        "\n",
        "#mengubah menjadi bentuk matrix\n",
        "for i in range (len(vocab)) :\n",
        "    matrix[i] = embedModel[vocab[i]]"
      ],
      "execution_count": 15,
      "outputs": [
        {
          "output_type": "stream",
          "text": [
            "/usr/local/lib/python3.7/dist-packages/ipykernel_launcher.py:5: DeprecationWarning: Call to deprecated `__getitem__` (Method will be removed in 4.0.0, use self.wv.__getitem__() instead).\n",
            "  \"\"\"\n"
          ],
          "name": "stderr"
        }
      ]
    },
    {
      "cell_type": "code",
      "metadata": {
        "colab": {
          "base_uri": "https://localhost:8080/"
        },
        "id": "UxiyrEW123UC",
        "outputId": "1d149397-699c-4aa7-9fb6-cfb46b81f2ab"
      },
      "source": [
        "print(matrix[50])"
      ],
      "execution_count": 16,
      "outputs": [
        {
          "output_type": "stream",
          "text": [
            "[-0.0120541  -0.00333323  0.00895239 -0.04198774  0.04922399  0.00624243\n",
            "  0.04163278  0.01962431 -0.04343016 -0.00306005]\n"
          ],
          "name": "stdout"
        }
      ]
    },
    {
      "cell_type": "code",
      "metadata": {
        "id": "Ok1h3xDV_PDR"
      },
      "source": [
        "matrix = np.float32(matrix)"
      ],
      "execution_count": 17,
      "outputs": []
    },
    {
      "cell_type": "markdown",
      "metadata": {
        "id": "j_l4s6CS60IB"
      },
      "source": [
        "#Training"
      ]
    },
    {
      "cell_type": "code",
      "metadata": {
        "id": "DRE3laOh54lv"
      },
      "source": [
        "#Data preparation\n",
        "#X\n",
        "x_data = newSeq\n",
        "scaler = StandardScaler()\n",
        "x_data = scaler.fit_transform(x_data)\n",
        "\n",
        "#Y\n",
        "y_data = dataset['label']\n",
        "y_data = y_data.values.reshape(-1,1)\n",
        "encoder = OneHotEncoder()\n",
        "y_data = encoder.fit_transform(y_data).toarray()"
      ],
      "execution_count": 18,
      "outputs": []
    },
    {
      "cell_type": "code",
      "metadata": {
        "colab": {
          "base_uri": "https://localhost:8080/"
        },
        "id": "vUlZAN0l53BE",
        "outputId": "e104fa4b-e79e-4de1-f293-a75dbc9e0655"
      },
      "source": [
        "x_data.shape"
      ],
      "execution_count": 19,
      "outputs": [
        {
          "output_type": "execute_result",
          "data": {
            "text/plain": [
              "(6, 12)"
            ]
          },
          "metadata": {
            "tags": []
          },
          "execution_count": 19
        }
      ]
    },
    {
      "cell_type": "code",
      "metadata": {
        "colab": {
          "base_uri": "https://localhost:8080/"
        },
        "id": "78vNrY6J6MhF",
        "outputId": "63f53099-4faa-4005-cc11-3b07b58df591"
      },
      "source": [
        "y_data.shape"
      ],
      "execution_count": 20,
      "outputs": [
        {
          "output_type": "execute_result",
          "data": {
            "text/plain": [
              "(6, 2)"
            ]
          },
          "metadata": {
            "tags": []
          },
          "execution_count": 20
        }
      ]
    },
    {
      "cell_type": "code",
      "metadata": {
        "id": "rr2lEzeB5slJ"
      },
      "source": [
        "#Initialize Variable (Weight, Bias)\n",
        "layer = {\n",
        "    'input' : 12,\n",
        "    'hidden' : 53,\n",
        "    'output' : 2,\n",
        "    'embed' : 10\n",
        "}\n",
        "\n",
        "weight = {\n",
        "    'th' : tf.Variable(tf.random_normal([layer['input'], layer['hidden']])),\n",
        "    'to' : tf.Variable(tf.random_normal([layer['embed'], layer['output']])),\n",
        "    'em' : tf.Variable(matrix)\n",
        "}\n",
        "\n",
        "bias = {\n",
        "    'th' : tf.Variable(tf.random_normal([layer['hidden']])),\n",
        "    'to' : tf.Variable(tf.random_normal([layer['output']])),\n",
        "    'hth': tf.Variable(tf.random_normal([layer['embed']]))\n",
        "}"
      ],
      "execution_count": 21,
      "outputs": []
    },
    {
      "cell_type": "code",
      "metadata": {
        "id": "dPfShFfx5sSC"
      },
      "source": [
        "#Data Split\n",
        "x_train, x_test, y_train, y_test = train_test_split(x_data, y_data, test_size = 0.25)\n",
        "\n",
        "x = tf.placeholder(tf.float32, [None, layer['input']])\n",
        "target = tf.placeholder(tf.float32, [None, layer['output']])"
      ],
      "execution_count": 22,
      "outputs": []
    },
    {
      "cell_type": "code",
      "metadata": {
        "id": "U-cEcl3P6mWD"
      },
      "source": [
        "#Forward Pass Function\n",
        "def forward_pass():\n",
        "    wx_b1 = tf.matmul(x, weight['th']) + bias['th']\n",
        "    y1 = tf.nn.sigmoid(wx_b1)\n",
        "\n",
        "    wx_b2 = tf.matmul(y1, weight['em']) + bias['hth']\n",
        "    y2 = tf.nn.sigmoid(wx_b2)\n",
        "\n",
        "    wx_b3 = tf.matmul(y2, weight['to']) + bias['to']\n",
        "    y3 = tf.nn.sigmoid(wx_b3)\n",
        "\n",
        "    return y3"
      ],
      "execution_count": 23,
      "outputs": []
    },
    {
      "cell_type": "code",
      "metadata": {
        "id": "d0qaHZKY6mPH"
      },
      "source": [
        "#Prediction\n",
        "y = forward_pass()"
      ],
      "execution_count": 24,
      "outputs": []
    },
    {
      "cell_type": "code",
      "metadata": {
        "id": "o_33hZ9d6mIH"
      },
      "source": [
        "#Initialize epoch,alpha,error\n",
        "epoch = 100\n",
        "alpha = 0.6\n",
        "error = tf.reduce_mean(0.5 * (target - y)**2)"
      ],
      "execution_count": 25,
      "outputs": []
    },
    {
      "cell_type": "code",
      "metadata": {
        "colab": {
          "base_uri": "https://localhost:8080/"
        },
        "id": "fYqklbbB6rpB",
        "outputId": "520cb3fc-3e67-4491-eeda-4f732011f0e7"
      },
      "source": [
        "#Optimizer\n",
        "optimizer = tf.train.GradientDescentOptimizer(alpha)\n",
        "train = optimizer.minimize(error)"
      ],
      "execution_count": 26,
      "outputs": [
        {
          "output_type": "stream",
          "text": [
            "WARNING:tensorflow:From /usr/local/lib/python3.7/dist-packages/tensorflow_core/python/ops/math_grad.py:1375: where (from tensorflow.python.ops.array_ops) is deprecated and will be removed in a future version.\n",
            "Instructions for updating:\n",
            "Use tf.where in 2.0, which has the same broadcast rule as np.where\n"
          ],
          "name": "stdout"
        }
      ]
    },
    {
      "cell_type": "code",
      "metadata": {
        "colab": {
          "base_uri": "https://localhost:8080/"
        },
        "id": "XxbbH7zw6rky",
        "outputId": "7eda35d8-24c9-419a-b014-f20acbf0f48b"
      },
      "source": [
        "with tf.Session() as sess:\n",
        "\n",
        "    sess.run(tf.global_variables_initializer())\n",
        "\n",
        "    for i in range(epoch):\n",
        "        sess.run(\n",
        "            train,\n",
        "            feed_dict = {\n",
        "                x: x_train,\n",
        "                target: y_train\n",
        "            }\n",
        "        )\n",
        "\n",
        "        if i % 1 == 0:\n",
        "\n",
        "            current_error = sess.run(\n",
        "                error,\n",
        "                feed_dict = {\n",
        "                    x: x_train,\n",
        "                    target: y_train\n",
        "                }\n",
        "            )\n",
        "\n",
        "            true_prediction = tf.equal(tf.argmax(y, axis = 1), tf.argmax(target, axis = 1))\n",
        "            accuracy = tf.reduce_mean(tf.cast(true_prediction, tf.float32))\n",
        "\n",
        "            accuracy = sess.run(\n",
        "                accuracy, feed_dict = {\n",
        "                    x: x_train,\n",
        "                    target: y_train\n",
        "                }\n",
        "            )\n",
        "\n",
        "            test_true_prediction = tf.equal(tf.argmax(y, axis = 1), tf.argmax(target, axis = 1))\n",
        "            accuracy_test = tf.reduce_mean(tf.cast(test_true_prediction, tf.float32))\n",
        "\n",
        "            accuracy_test = sess.run(\n",
        "                accuracy_test, feed_dict = {\n",
        "                    x: x_test,\n",
        "                    target: y_test\n",
        "                }\n",
        "            \n",
        "            )\n",
        "            #Training Process\n",
        "            print(f'EPOCH {i+1} | ACC: {accuracy} | ERROR: {current_error}')\n",
        "\n",
        "\n",
        "    print(f'\\nTrain Accuracy:{accuracy}\\n')\n",
        "\n",
        "    print(f'Test Accuracy:{accuracy_test}\\n')"
      ],
      "execution_count": 27,
      "outputs": [
        {
          "output_type": "stream",
          "text": [
            "EPOCH 1 | ACC: 0.5 | ERROR: 0.17169111967086792\n",
            "EPOCH 2 | ACC: 0.5 | ERROR: 0.16488134860992432\n",
            "EPOCH 3 | ACC: 0.5 | ERROR: 0.1575608253479004\n",
            "EPOCH 4 | ACC: 0.5 | ERROR: 0.14983706176280975\n",
            "EPOCH 5 | ACC: 0.5 | ERROR: 0.14201678335666656\n",
            "EPOCH 6 | ACC: 0.5 | ERROR: 0.1345592737197876\n",
            "EPOCH 7 | ACC: 0.5 | ERROR: 0.127894788980484\n",
            "EPOCH 8 | ACC: 0.5 | ERROR: 0.1222490519285202\n",
            "EPOCH 9 | ACC: 0.5 | ERROR: 0.11761421710252762\n",
            "EPOCH 10 | ACC: 0.75 | ERROR: 0.11383748799562454\n",
            "EPOCH 11 | ACC: 0.75 | ERROR: 0.11072136461734772\n",
            "EPOCH 12 | ACC: 1.0 | ERROR: 0.10808292031288147\n",
            "EPOCH 13 | ACC: 1.0 | ERROR: 0.10577528178691864\n",
            "EPOCH 14 | ACC: 1.0 | ERROR: 0.10368894040584564\n",
            "EPOCH 15 | ACC: 1.0 | ERROR: 0.10174566507339478\n",
            "EPOCH 16 | ACC: 1.0 | ERROR: 0.09989120811223984\n",
            "EPOCH 17 | ACC: 1.0 | ERROR: 0.09808893501758575\n",
            "EPOCH 18 | ACC: 1.0 | ERROR: 0.09631496667861938\n",
            "EPOCH 19 | ACC: 1.0 | ERROR: 0.09455444663763046\n",
            "EPOCH 20 | ACC: 1.0 | ERROR: 0.09279896318912506\n",
            "EPOCH 21 | ACC: 1.0 | ERROR: 0.09104461967945099\n",
            "EPOCH 22 | ACC: 1.0 | ERROR: 0.089290551841259\n",
            "EPOCH 23 | ACC: 1.0 | ERROR: 0.08753794431686401\n",
            "EPOCH 24 | ACC: 1.0 | ERROR: 0.08578918129205704\n",
            "EPOCH 25 | ACC: 1.0 | ERROR: 0.0840473622083664\n",
            "EPOCH 26 | ACC: 1.0 | ERROR: 0.08231578767299652\n",
            "EPOCH 27 | ACC: 1.0 | ERROR: 0.08059785515069962\n",
            "EPOCH 28 | ACC: 1.0 | ERROR: 0.07889670133590698\n",
            "EPOCH 29 | ACC: 1.0 | ERROR: 0.07721526175737381\n",
            "EPOCH 30 | ACC: 1.0 | ERROR: 0.07555611431598663\n",
            "EPOCH 31 | ACC: 1.0 | ERROR: 0.07392151653766632\n",
            "EPOCH 32 | ACC: 1.0 | ERROR: 0.07231338322162628\n",
            "EPOCH 33 | ACC: 1.0 | ERROR: 0.07073330879211426\n",
            "EPOCH 34 | ACC: 1.0 | ERROR: 0.06918258965015411\n",
            "EPOCH 35 | ACC: 1.0 | ERROR: 0.06766228377819061\n",
            "EPOCH 36 | ACC: 1.0 | ERROR: 0.06617315113544464\n",
            "EPOCH 37 | ACC: 1.0 | ERROR: 0.06471572071313858\n",
            "EPOCH 38 | ACC: 1.0 | ERROR: 0.06329038739204407\n",
            "EPOCH 39 | ACC: 1.0 | ERROR: 0.061897341161966324\n",
            "EPOCH 40 | ACC: 1.0 | ERROR: 0.06053662300109863\n",
            "EPOCH 41 | ACC: 1.0 | ERROR: 0.05920814350247383\n",
            "EPOCH 42 | ACC: 1.0 | ERROR: 0.057911716401576996\n",
            "EPOCH 43 | ACC: 1.0 | ERROR: 0.05664706230163574\n",
            "EPOCH 44 | ACC: 1.0 | ERROR: 0.05541382357478142\n",
            "EPOCH 45 | ACC: 1.0 | ERROR: 0.054211582988500595\n",
            "EPOCH 46 | ACC: 1.0 | ERROR: 0.05303988233208656\n",
            "EPOCH 47 | ACC: 1.0 | ERROR: 0.05189820006489754\n",
            "EPOCH 48 | ACC: 1.0 | ERROR: 0.05078599601984024\n",
            "EPOCH 49 | ACC: 1.0 | ERROR: 0.04970269650220871\n",
            "EPOCH 50 | ACC: 1.0 | ERROR: 0.048647698014974594\n",
            "EPOCH 51 | ACC: 1.0 | ERROR: 0.047620415687561035\n",
            "EPOCH 52 | ACC: 1.0 | ERROR: 0.046620216220617294\n",
            "EPOCH 53 | ACC: 1.0 | ERROR: 0.04564647749066353\n",
            "EPOCH 54 | ACC: 1.0 | ERROR: 0.044698566198349\n",
            "EPOCH 55 | ACC: 1.0 | ERROR: 0.04377583786845207\n",
            "EPOCH 56 | ACC: 1.0 | ERROR: 0.0428776815533638\n",
            "EPOCH 57 | ACC: 1.0 | ERROR: 0.04200344160199165\n",
            "EPOCH 58 | ACC: 1.0 | ERROR: 0.041152507066726685\n",
            "EPOCH 59 | ACC: 1.0 | ERROR: 0.040324244648218155\n",
            "EPOCH 60 | ACC: 1.0 | ERROR: 0.03951802849769592\n",
            "EPOCH 61 | ACC: 1.0 | ERROR: 0.03873327746987343\n",
            "EPOCH 62 | ACC: 1.0 | ERROR: 0.037969380617141724\n",
            "EPOCH 63 | ACC: 1.0 | ERROR: 0.037225738167762756\n",
            "EPOCH 64 | ACC: 1.0 | ERROR: 0.036501795053482056\n",
            "EPOCH 65 | ACC: 1.0 | ERROR: 0.035796958953142166\n",
            "EPOCH 66 | ACC: 1.0 | ERROR: 0.0351107120513916\n",
            "EPOCH 67 | ACC: 1.0 | ERROR: 0.0344424769282341\n",
            "EPOCH 68 | ACC: 1.0 | ERROR: 0.03379175812005997\n",
            "EPOCH 69 | ACC: 1.0 | ERROR: 0.03315800800919533\n",
            "EPOCH 70 | ACC: 1.0 | ERROR: 0.03254075348377228\n",
            "EPOCH 71 | ACC: 1.0 | ERROR: 0.03193949535489082\n",
            "EPOCH 72 | ACC: 1.0 | ERROR: 0.03135375306010246\n",
            "EPOCH 73 | ACC: 1.0 | ERROR: 0.030783064663410187\n",
            "EPOCH 74 | ACC: 1.0 | ERROR: 0.03022700361907482\n",
            "EPOCH 75 | ACC: 1.0 | ERROR: 0.029685111716389656\n",
            "EPOCH 76 | ACC: 1.0 | ERROR: 0.029156964272260666\n",
            "EPOCH 77 | ACC: 1.0 | ERROR: 0.02864217199385166\n",
            "EPOCH 78 | ACC: 1.0 | ERROR: 0.028140312060713768\n",
            "EPOCH 79 | ACC: 1.0 | ERROR: 0.027651023119688034\n",
            "EPOCH 80 | ACC: 1.0 | ERROR: 0.02717391774058342\n",
            "EPOCH 81 | ACC: 1.0 | ERROR: 0.02670864760875702\n",
            "EPOCH 82 | ACC: 1.0 | ERROR: 0.02625485509634018\n",
            "EPOCH 83 | ACC: 1.0 | ERROR: 0.025812191888689995\n",
            "EPOCH 84 | ACC: 1.0 | ERROR: 0.025380343198776245\n",
            "EPOCH 85 | ACC: 1.0 | ERROR: 0.024958986788988113\n",
            "EPOCH 86 | ACC: 1.0 | ERROR: 0.024547815322875977\n",
            "EPOCH 87 | ACC: 1.0 | ERROR: 0.02414652705192566\n",
            "EPOCH 88 | ACC: 1.0 | ERROR: 0.023754850029945374\n",
            "EPOCH 89 | ACC: 1.0 | ERROR: 0.023372486233711243\n",
            "EPOCH 90 | ACC: 1.0 | ERROR: 0.022999174892902374\n",
            "EPOCH 91 | ACC: 1.0 | ERROR: 0.022634655237197876\n",
            "EPOCH 92 | ACC: 1.0 | ERROR: 0.022278672084212303\n",
            "EPOCH 93 | ACC: 1.0 | ERROR: 0.021930985152721405\n",
            "EPOCH 94 | ACC: 1.0 | ERROR: 0.02159135788679123\n",
            "EPOCH 95 | ACC: 1.0 | ERROR: 0.021259546279907227\n",
            "EPOCH 96 | ACC: 1.0 | ERROR: 0.02093535102903843\n",
            "EPOCH 97 | ACC: 1.0 | ERROR: 0.020618541166186333\n",
            "EPOCH 98 | ACC: 1.0 | ERROR: 0.02030891552567482\n",
            "EPOCH 99 | ACC: 1.0 | ERROR: 0.020006271079182625\n",
            "EPOCH 100 | ACC: 1.0 | ERROR: 0.019710419699549675\n",
            "\n",
            "Train Accuracy:1.0\n",
            "\n",
            "Test Accuracy:1.0\n",
            "\n"
          ],
          "name": "stdout"
        }
      ]
    }
  ]
}